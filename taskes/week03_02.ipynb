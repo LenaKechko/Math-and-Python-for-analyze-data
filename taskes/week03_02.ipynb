{
 "cells": [
  {
   "cell_type": "code",
   "execution_count": 31,
   "metadata": {},
   "outputs": [],
   "source": [
    "import numpy as np\n",
    "from scipy import optimize\n",
    "from matplotlib import pylab as plt"
   ]
  },
  {
   "cell_type": "code",
   "execution_count": 32,
   "metadata": {},
   "outputs": [],
   "source": [
    "def f(x):\n",
    "    return np.sin(x / 5.0) * np.exp(x / 10.0) + 5 * np.exp(-(x) / 2.0)"
   ]
  },
  {
   "cell_type": "code",
   "execution_count": 33,
   "metadata": {},
   "outputs": [
    {
     "data": {
      "text/plain": [
       "array([ 1,  2,  3,  4,  5,  6,  7,  8,  9, 10, 11, 12, 13, 14, 15, 16, 17,\n",
       "       18, 19, 20, 21, 22, 23, 24, 25, 26, 27, 28, 29, 30])"
      ]
     },
     "execution_count": 33,
     "metadata": {},
     "output_type": "execute_result"
    }
   ],
   "source": [
    "x = np.arange(1,31)\n",
    "x"
   ]
  },
  {
   "cell_type": "code",
   "execution_count": 34,
   "metadata": {},
   "outputs": [
    {
     "data": {
      "text/plain": [
       "array([  3.25221687,   2.31503384,   1.87783842,   1.74684595,\n",
       "         1.7977761 ,   1.94722128,   2.13543898,   2.31617016,\n",
       "         2.45082365,   2.50541641,   2.44929128,   2.2550105 ,\n",
       "         1.89904466,   1.36300335,   0.63522142,  -0.28745171,\n",
       "        -1.39780121,  -2.67647563,  -4.09044301,  -5.59182909,\n",
       "        -7.11729817,  -8.58813805,  -9.91120472, -10.98086747,\n",
       "       -11.68207055, -11.89459075, -11.49852141, -10.38095272,\n",
       "        -8.44374503,  -5.61220878])"
      ]
     },
     "execution_count": 34,
     "metadata": {},
     "output_type": "execute_result"
    }
   ],
   "source": [
    "y = np.array(f(x))\n",
    "y"
   ]
  },
  {
   "cell_type": "code",
   "execution_count": 35,
   "metadata": {},
   "outputs": [
    {
     "name": "stdout",
     "output_type": "stream",
     "text": [
      "-11.898894665981189\n"
     ]
    }
   ],
   "source": [
    "bounds = [(1., 30.)]\n",
    "f_min = optimize.differential_evolution(f, bounds)\n",
    "print(f_min.fun[0])\n",
    "file_obj = open(\"week03_02.txt\", \"w\")\n",
    "file_obj.write(str(round(f_min.fun[0],2)))\n",
    "file_obj.close()"
   ]
  },
  {
   "cell_type": "code",
   "execution_count": null,
   "metadata": {},
   "outputs": [],
   "source": []
  },
  {
   "cell_type": "code",
   "execution_count": null,
   "metadata": {},
   "outputs": [],
   "source": []
  }
 ],
 "metadata": {
  "kernelspec": {
   "display_name": "Python 2",
   "language": "python",
   "name": "python2"
  },
  "language_info": {
   "codemirror_mode": {
    "name": "ipython",
    "version": 2
   },
   "file_extension": ".py",
   "mimetype": "text/x-python",
   "name": "python",
   "nbconvert_exporter": "python",
   "pygments_lexer": "ipython2",
   "version": "2.7.16"
  }
 },
 "nbformat": 4,
 "nbformat_minor": 2
}
