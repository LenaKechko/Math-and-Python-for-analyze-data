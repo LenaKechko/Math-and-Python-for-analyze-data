{
 "cells": [
  {
   "cell_type": "code",
   "execution_count": 330,
   "metadata": {},
   "outputs": [],
   "source": [
    "import numpy as np\n",
    "from scipy import spatial\n",
    "import re"
   ]
  },
  {
   "cell_type": "code",
   "execution_count": 331,
   "metadata": {
    "scrolled": true
   },
   "outputs": [],
   "source": [
    "f = open(\"sentences.txt\", \"r\")\n",
    "info_from_file = f.read().lower()\n",
    "f.close()"
   ]
  },
  {
   "cell_type": "code",
   "execution_count": 332,
   "metadata": {
    "scrolled": false
   },
   "outputs": [],
   "source": [
    "words_list = re.split('[^a-z\\']', info_from_file)\n",
    "words_list = [word for word in words_list if word != '']"
   ]
  },
  {
   "cell_type": "code",
   "execution_count": 333,
   "metadata": {},
   "outputs": [],
   "source": [
    "data_dict = dict()\n",
    "d = 0\n",
    "for word in words_list:\n",
    "    if word not in data_dict.values():\n",
    "        data_dict[d] = word\n",
    "        d += 1  "
   ]
  },
  {
   "cell_type": "code",
   "execution_count": 334,
   "metadata": {},
   "outputs": [],
   "source": [
    "sentence_list = info_from_file.strip().split(\"\\n\")\n",
    "n = len(sentence_list)"
   ]
  },
  {
   "cell_type": "code",
   "execution_count": 336,
   "metadata": {},
   "outputs": [],
   "source": [
    "matrix = np.zeros((n, d))\n",
    "matrix.shape\n",
    "for i in range(n):\n",
    "    for j in range(d):\n",
    "        if data_dict[j] in re.split('[^a-z\\']', sentence_list[i]):\n",
    "            matrix[i][j] += 1"
   ]
  },
  {
   "cell_type": "code",
   "execution_count": 348,
   "metadata": {
    "scrolled": true
   },
   "outputs": [],
   "source": [
    "result_dict = []\n",
    "for i in range(1,n):\n",
    "    result_dict.append(scipy.spatial.distance.cosine(matrix[0], matrix[i]))\n",
    "result_dict = np.array(result_dict)\n",
    "with open(\"week02_01.txt\", \"w\") as f:\n",
    "    for i in range(2):\n",
    "        res = result_dict.argmin() + 1\n",
    "        f.write(str(res) + \" \")\n",
    "        result_dict[result_dict.argmin()] = 1"
   ]
  },
  {
   "cell_type": "code",
   "execution_count": 347,
   "metadata": {},
   "outputs": [],
   "source": []
  },
  {
   "cell_type": "code",
   "execution_count": null,
   "metadata": {},
   "outputs": [],
   "source": []
  }
 ],
 "metadata": {
  "kernelspec": {
   "display_name": "Python 2",
   "language": "python",
   "name": "python2"
  },
  "language_info": {
   "codemirror_mode": {
    "name": "ipython",
    "version": 2
   },
   "file_extension": ".py",
   "mimetype": "text/x-python",
   "name": "python",
   "nbconvert_exporter": "python",
   "pygments_lexer": "ipython2",
   "version": "2.7.16"
  }
 },
 "nbformat": 4,
 "nbformat_minor": 2
}
